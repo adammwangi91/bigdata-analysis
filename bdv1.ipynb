{
 "cells": [
  {
   "cell_type": "code",
   "execution_count": null,
   "id": "18c2248f-5f9d-41bb-aa80-f1f87de1f229",
   "metadata": {},
   "outputs": [],
   "source": [
    "# Data transfer command from S3 to HDFS\n",
    "hadoop distcp s3://amazon-reviews-pds/json/All_Beauty.json.gz hdfs:///user/hadoop/amazon-reviews/\n",
    "\n",
    "# Verify data in HDFS\n",
    "hdfs dfs -ls /user/hadoop/amazon-reviews/\n",
    "hdfs dfs -du -h /user/hadoop/amazon-reviews/"
   ]
  },
  {
   "cell_type": "code",
   "execution_count": null,
   "id": "fa83e54d-3e76-4746-a862-3fc0a9fd3c51",
   "metadata": {},
   "outputs": [],
   "source": [
    "# Format conversion from JSON to Parquet\n",
    "from pyspark.sql import SparkSession\n",
    "\n",
    "spark = SparkSession.builder.appName(\"DataIngestion\").getOrCreate()\n",
    "df = spark.read.json(\"hdfs:///user/hadoop/amazon-reviews/*.json.gz\")\n",
    "df.write.mode(\"overwrite\").parquet(\"hdfs:///user/hadoop/amazon-reviews-parquet/\")"
   ]
  }
 ],
 "metadata": {
  "kernelspec": {
   "display_name": "Python 3 (ipykernel)",
   "language": "python",
   "name": "python3"
  },
  "language_info": {
   "codemirror_mode": {
    "name": "ipython",
    "version": 3
   },
   "file_extension": ".py",
   "mimetype": "text/x-python",
   "name": "python",
   "nbconvert_exporter": "python",
   "pygments_lexer": "ipython3",
   "version": "3.9.6"
  }
 },
 "nbformat": 4,
 "nbformat_minor": 5
}
